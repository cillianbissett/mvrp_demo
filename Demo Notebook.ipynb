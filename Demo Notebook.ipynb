{
 "cells": [
  {
   "cell_type": "markdown",
   "metadata": {},
   "source": [
    "# Route Optimisation Algorithm Demonstration\n",
    "\n",
    "## What this demo covers\n",
    "This demo showcases some basic variants of the TSP problem. *Important call out*: many real-life applications may not be able to lean on the Google OR Tools library since they may have some incredibly specific constraints, so it may be a case of needing to do some extra bespoke development which will lengthen the delivery cycle. "
   ]
  },
  {
   "cell_type": "code",
   "execution_count": 1,
   "metadata": {},
   "outputs": [],
   "source": [
    "import math\n",
    "import numpy as np\n",
    "import pandas as pd\n",
    "from call_funcs import data_generator, distance_finder\n",
    "from problem_solver import problem_solver\n",
    "from route_operations import route_cleaner, fetch_route_detail\n",
    "from plotting_helper import plot_routes\n",
    "from multi_depot_solver import multi_depot_solver"
   ]
  },
  {
   "cell_type": "markdown",
   "metadata": {},
   "source": [
    "## First Example: simple case - one depot, multiple drivers\n",
    "\n",
    "This is a relatively simple example, where we just look at getting some drivers from a certain start point to cover a set of calls; no thought towards even distribution of work, etc"
   ]
  },
  {
   "cell_type": "code",
   "execution_count": 2,
   "metadata": {},
   "outputs": [],
   "source": [
    "engineers = 3\n",
    "jobs = 12\n",
    "time_limit = 10"
   ]
  },
  {
   "cell_type": "code",
   "execution_count": 3,
   "metadata": {},
   "outputs": [],
   "source": [
    "call_locations = data_generator(jobs,200,200)\n",
    "distance_matrix = distance_finder(call_locations)"
   ]
  },
  {
   "cell_type": "code",
   "execution_count": 4,
   "metadata": {},
   "outputs": [
    {
     "data": {
      "text/html": [
       "<div>\n",
       "<style scoped>\n",
       "    .dataframe tbody tr th:only-of-type {\n",
       "        vertical-align: middle;\n",
       "    }\n",
       "\n",
       "    .dataframe tbody tr th {\n",
       "        vertical-align: top;\n",
       "    }\n",
       "\n",
       "    .dataframe thead th {\n",
       "        text-align: right;\n",
       "    }\n",
       "</style>\n",
       "<table border=\"1\" class=\"dataframe\">\n",
       "  <thead>\n",
       "    <tr style=\"text-align: right;\">\n",
       "      <th></th>\n",
       "      <th>index</th>\n",
       "      <th>x</th>\n",
       "      <th>y</th>\n",
       "    </tr>\n",
       "  </thead>\n",
       "  <tbody>\n",
       "    <tr>\n",
       "      <th>0</th>\n",
       "      <td>0</td>\n",
       "      <td>28</td>\n",
       "      <td>140</td>\n",
       "    </tr>\n",
       "    <tr>\n",
       "      <th>1</th>\n",
       "      <td>1</td>\n",
       "      <td>47</td>\n",
       "      <td>107</td>\n",
       "    </tr>\n",
       "    <tr>\n",
       "      <th>2</th>\n",
       "      <td>2</td>\n",
       "      <td>38</td>\n",
       "      <td>171</td>\n",
       "    </tr>\n",
       "    <tr>\n",
       "      <th>3</th>\n",
       "      <td>3</td>\n",
       "      <td>9</td>\n",
       "      <td>179</td>\n",
       "    </tr>\n",
       "    <tr>\n",
       "      <th>4</th>\n",
       "      <td>4</td>\n",
       "      <td>187</td>\n",
       "      <td>106</td>\n",
       "    </tr>\n",
       "    <tr>\n",
       "      <th>5</th>\n",
       "      <td>5</td>\n",
       "      <td>155</td>\n",
       "      <td>142</td>\n",
       "    </tr>\n",
       "    <tr>\n",
       "      <th>6</th>\n",
       "      <td>6</td>\n",
       "      <td>84</td>\n",
       "      <td>145</td>\n",
       "    </tr>\n",
       "    <tr>\n",
       "      <th>7</th>\n",
       "      <td>7</td>\n",
       "      <td>2</td>\n",
       "      <td>95</td>\n",
       "    </tr>\n",
       "    <tr>\n",
       "      <th>8</th>\n",
       "      <td>8</td>\n",
       "      <td>66</td>\n",
       "      <td>124</td>\n",
       "    </tr>\n",
       "    <tr>\n",
       "      <th>9</th>\n",
       "      <td>9</td>\n",
       "      <td>163</td>\n",
       "      <td>125</td>\n",
       "    </tr>\n",
       "    <tr>\n",
       "      <th>10</th>\n",
       "      <td>10</td>\n",
       "      <td>131</td>\n",
       "      <td>127</td>\n",
       "    </tr>\n",
       "    <tr>\n",
       "      <th>11</th>\n",
       "      <td>11</td>\n",
       "      <td>166</td>\n",
       "      <td>110</td>\n",
       "    </tr>\n",
       "  </tbody>\n",
       "</table>\n",
       "</div>"
      ],
      "text/plain": [
       "    index    x    y\n",
       "0       0   28  140\n",
       "1       1   47  107\n",
       "2       2   38  171\n",
       "3       3    9  179\n",
       "4       4  187  106\n",
       "5       5  155  142\n",
       "6       6   84  145\n",
       "7       7    2   95\n",
       "8       8   66  124\n",
       "9       9  163  125\n",
       "10     10  131  127\n",
       "11     11  166  110"
      ]
     },
     "execution_count": 4,
     "metadata": {},
     "output_type": "execute_result"
    }
   ],
   "source": [
    "call_locations"
   ]
  },
  {
   "cell_type": "code",
   "execution_count": 5,
   "metadata": {},
   "outputs": [
    {
     "data": {
      "text/plain": [
       "[[0, 38, 32, 43, 162, 127, 56, 51, 41, 135, 103, 141],\n",
       " [38, 0, 64, 81, 140, 113, 53, 46, 25, 117, 86, 119],\n",
       " [32, 64, 0, 30, 162, 120, 52, 84, 54, 133, 102, 141],\n",
       " [43, 81, 30, 0, 192, 150, 82, 84, 79, 163, 132, 171],\n",
       " [162, 140, 162, 192, 0, 48, 110, 185, 122, 30, 59, 21],\n",
       " [127, 113, 120, 150, 48, 0, 71, 160, 90, 18, 28, 33],\n",
       " [56, 53, 52, 82, 110, 71, 0, 96, 27, 81, 50, 89],\n",
       " [51, 46, 84, 84, 185, 160, 96, 0, 70, 163, 132, 164],\n",
       " [41, 25, 54, 79, 122, 90, 27, 70, 0, 97, 65, 100],\n",
       " [135, 117, 133, 163, 30, 18, 81, 163, 97, 0, 32, 15],\n",
       " [103, 86, 102, 132, 59, 28, 50, 132, 65, 32, 0, 38],\n",
       " [141, 119, 141, 171, 21, 33, 89, 164, 100, 15, 38, 0]]"
      ]
     },
     "execution_count": 5,
     "metadata": {},
     "output_type": "execute_result"
    }
   ],
   "source": [
    "distance_matrix"
   ]
  },
  {
   "cell_type": "code",
   "execution_count": 6,
   "metadata": {},
   "outputs": [
    {
     "name": "stdout",
     "output_type": "stream",
     "text": [
      "Route for vehicle 0:\n",
      " 0 ->  2 ->  3 ->  7 -> 0\n",
      "Distance of the route: 197m\n",
      "\n",
      "Route for vehicle 1:\n",
      " 0 ->  6 ->  5 ->  9 ->  1 -> 0\n",
      "Distance of the route: 300m\n",
      "\n",
      "Route for vehicle 2:\n",
      " 0 ->  8 ->  11 ->  4 ->  10 -> 0\n",
      "Distance of the route: 324m\n",
      "\n",
      "Distance travelled:  821\n"
     ]
    }
   ],
   "source": [
    "routes = problem_solver(distance_matrix, engineers)"
   ]
  },
  {
   "cell_type": "code",
   "execution_count": 7,
   "metadata": {},
   "outputs": [
    {
     "data": {
      "text/html": [
       "<div>\n",
       "<style scoped>\n",
       "    .dataframe tbody tr th:only-of-type {\n",
       "        vertical-align: middle;\n",
       "    }\n",
       "\n",
       "    .dataframe tbody tr th {\n",
       "        vertical-align: top;\n",
       "    }\n",
       "\n",
       "    .dataframe thead th {\n",
       "        text-align: right;\n",
       "    }\n",
       "</style>\n",
       "<table border=\"1\" class=\"dataframe\">\n",
       "  <thead>\n",
       "    <tr style=\"text-align: right;\">\n",
       "      <th></th>\n",
       "      <th>index</th>\n",
       "      <th>x_coord</th>\n",
       "      <th>y_coord</th>\n",
       "      <th>driver</th>\n",
       "      <th>order</th>\n",
       "    </tr>\n",
       "  </thead>\n",
       "  <tbody>\n",
       "    <tr>\n",
       "      <th>0</th>\n",
       "      <td>0</td>\n",
       "      <td>28</td>\n",
       "      <td>140</td>\n",
       "      <td>0</td>\n",
       "      <td>0</td>\n",
       "    </tr>\n",
       "    <tr>\n",
       "      <th>1</th>\n",
       "      <td>2</td>\n",
       "      <td>38</td>\n",
       "      <td>171</td>\n",
       "      <td>0</td>\n",
       "      <td>1</td>\n",
       "    </tr>\n",
       "    <tr>\n",
       "      <th>2</th>\n",
       "      <td>3</td>\n",
       "      <td>9</td>\n",
       "      <td>179</td>\n",
       "      <td>0</td>\n",
       "      <td>2</td>\n",
       "    </tr>\n",
       "    <tr>\n",
       "      <th>3</th>\n",
       "      <td>7</td>\n",
       "      <td>2</td>\n",
       "      <td>95</td>\n",
       "      <td>0</td>\n",
       "      <td>3</td>\n",
       "    </tr>\n",
       "    <tr>\n",
       "      <th>4</th>\n",
       "      <td>0</td>\n",
       "      <td>28</td>\n",
       "      <td>140</td>\n",
       "      <td>1</td>\n",
       "      <td>0</td>\n",
       "    </tr>\n",
       "    <tr>\n",
       "      <th>5</th>\n",
       "      <td>6</td>\n",
       "      <td>84</td>\n",
       "      <td>145</td>\n",
       "      <td>1</td>\n",
       "      <td>1</td>\n",
       "    </tr>\n",
       "    <tr>\n",
       "      <th>6</th>\n",
       "      <td>5</td>\n",
       "      <td>155</td>\n",
       "      <td>142</td>\n",
       "      <td>1</td>\n",
       "      <td>2</td>\n",
       "    </tr>\n",
       "    <tr>\n",
       "      <th>7</th>\n",
       "      <td>9</td>\n",
       "      <td>163</td>\n",
       "      <td>125</td>\n",
       "      <td>1</td>\n",
       "      <td>3</td>\n",
       "    </tr>\n",
       "    <tr>\n",
       "      <th>8</th>\n",
       "      <td>1</td>\n",
       "      <td>47</td>\n",
       "      <td>107</td>\n",
       "      <td>1</td>\n",
       "      <td>4</td>\n",
       "    </tr>\n",
       "    <tr>\n",
       "      <th>9</th>\n",
       "      <td>0</td>\n",
       "      <td>28</td>\n",
       "      <td>140</td>\n",
       "      <td>2</td>\n",
       "      <td>0</td>\n",
       "    </tr>\n",
       "    <tr>\n",
       "      <th>10</th>\n",
       "      <td>8</td>\n",
       "      <td>66</td>\n",
       "      <td>124</td>\n",
       "      <td>2</td>\n",
       "      <td>1</td>\n",
       "    </tr>\n",
       "    <tr>\n",
       "      <th>11</th>\n",
       "      <td>11</td>\n",
       "      <td>166</td>\n",
       "      <td>110</td>\n",
       "      <td>2</td>\n",
       "      <td>2</td>\n",
       "    </tr>\n",
       "    <tr>\n",
       "      <th>12</th>\n",
       "      <td>4</td>\n",
       "      <td>187</td>\n",
       "      <td>106</td>\n",
       "      <td>2</td>\n",
       "      <td>3</td>\n",
       "    </tr>\n",
       "    <tr>\n",
       "      <th>13</th>\n",
       "      <td>10</td>\n",
       "      <td>131</td>\n",
       "      <td>127</td>\n",
       "      <td>2</td>\n",
       "      <td>4</td>\n",
       "    </tr>\n",
       "  </tbody>\n",
       "</table>\n",
       "</div>"
      ],
      "text/plain": [
       "    index  x_coord  y_coord  driver  order\n",
       "0       0       28      140       0      0\n",
       "1       2       38      171       0      1\n",
       "2       3        9      179       0      2\n",
       "3       7        2       95       0      3\n",
       "4       0       28      140       1      0\n",
       "5       6       84      145       1      1\n",
       "6       5      155      142       1      2\n",
       "7       9      163      125       1      3\n",
       "8       1       47      107       1      4\n",
       "9       0       28      140       2      0\n",
       "10      8       66      124       2      1\n",
       "11     11      166      110       2      2\n",
       "12      4      187      106       2      3\n",
       "13     10      131      127       2      4"
      ]
     },
     "execution_count": 7,
     "metadata": {},
     "output_type": "execute_result"
    }
   ],
   "source": [
    "clean_routes = route_cleaner(routes, jobs, True)\n",
    "routes_data = fetch_route_detail(clean_routes, call_locations)\n",
    "routes_data"
   ]
  },
  {
   "cell_type": "code",
   "execution_count": 8,
   "metadata": {},
   "outputs": [
    {
     "name": "stderr",
     "output_type": "stream",
     "text": [
      "c:\\Demos\\02. UKPN Revised Demo\\plotting_helper.py:10: FutureWarning: The frame.append method is deprecated and will be removed from pandas in a future version. Use pandas.concat instead.\n",
      "  driver_df = driver_df.append(driver_df.iloc[0,:])\n",
      "c:\\Demos\\02. UKPN Revised Demo\\plotting_helper.py:10: FutureWarning: The frame.append method is deprecated and will be removed from pandas in a future version. Use pandas.concat instead.\n",
      "  driver_df = driver_df.append(driver_df.iloc[0,:])\n",
      "c:\\Demos\\02. UKPN Revised Demo\\plotting_helper.py:10: FutureWarning: The frame.append method is deprecated and will be removed from pandas in a future version. Use pandas.concat instead.\n",
      "  driver_df = driver_df.append(driver_df.iloc[0,:])\n"
     ]
    },
    {
     "data": {
      "image/png": "[encoded data removed]",
      "text/plain": [
       "<Figure size 1080x720 with 1 Axes>"
      ]
     },
     "metadata": {
      "needs_background": "light"
     },
     "output_type": "display_data"
    }
   ],
   "source": [
    "plot_routes(routes_data, 'Simple case - one depot with multiple drivers')"
   ]
  },
  {
   "cell_type": "markdown",
   "metadata": {},
   "source": [
    "## Second Example: Multiple start points, even distribution of work\n",
    "\n",
    "In this example, each crew starts from a different place, and all crews must perform the same number of repairs/jobs/callouts."
   ]
  },
  {
   "cell_type": "code",
   "execution_count": 9,
   "metadata": {},
   "outputs": [],
   "source": [
    "engineers = 3\n",
    "jobs = 12\n",
    "time_limit = 10\n",
    "call_locations = data_generator(jobs,200,200)\n",
    "distance_matrix = distance_finder(call_locations)"
   ]
  },
  {
   "cell_type": "code",
   "execution_count": 10,
   "metadata": {},
   "outputs": [
    {
     "name": "stdout",
     "output_type": "stream",
     "text": [
      "Route for vehicle 0:\n",
      " 7 ->  2 ->  4 ->  3 -> 7\n",
      "Distance of the route: 164m\n",
      "\n",
      "Route for vehicle 1:\n",
      " 11 ->  5 ->  6 ->  1 ->  9 ->  10 -> 11\n",
      "Distance of the route: 234m\n",
      "\n",
      "Route for vehicle 2:\n",
      " 0 ->  8 -> 0\n",
      "Distance of the route: 246m\n",
      "\n",
      "Distance travelled:  644\n"
     ]
    },
    {
     "data": {
      "text/plain": [
       "[[7, 2, 4, 3], [11, 5, 6, 1, 9, 10], [0, 8]]"
      ]
     },
     "execution_count": 10,
     "metadata": {},
     "output_type": "execute_result"
    }
   ],
   "source": [
    "multi_depot_routes = multi_depot_solver(distance_matrix, engineers)\n",
    "multi_depot_routes"
   ]
  },
  {
   "cell_type": "code",
   "execution_count": null,
   "metadata": {},
   "outputs": [],
   "source": []
  }
 ],
 "metadata": {
  "kernelspec": {
   "display_name": "Python 3.10.6 64-bit",
   "language": "python",
   "name": "python3"
  },
  "language_info": {
   "codemirror_mode": {
    "name": "ipython",
    "version": 3
   },
   "file_extension": ".py",
   "mimetype": "text/x-python",
   "name": "python",
   "nbconvert_exporter": "python",
   "pygments_lexer": "ipython3",
   "version": "3.10.6"
  },
  "orig_nbformat": 4,
  "vscode": {
   "interpreter": {
    "hash": "2465e89a81e6bc332a698807e1004ac60c4bb0baa4a70ecaad27dc444f0fdd9e"
   }
  }
 },
 "nbformat": 4,
 "nbformat_minor": 2
}
