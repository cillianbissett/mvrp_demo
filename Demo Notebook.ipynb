{
 "cells": [
  {
   "cell_type": "markdown",
   "metadata": {},
   "source": [
    "# Route Optimisation Algorithm Demonstration\n",
    "\n",
    "## What this demo covers\n",
    "This demo showcases some basic variants of the TSP problem. *Important call out*: many real-life applications may not be able to lean on the Google OR Tools library since they may have some incredibly specific constraints, so it may be a case of needing to do some extra bespoke development which will lengthen the delivery cycle. "
   ]
  },
  {
   "cell_type": "code",
   "execution_count": 10,
   "metadata": {},
   "outputs": [],
   "source": [
    "import numpy as np\n",
    "import pandas as pd\n",
    "from call_funcs import data_generator, distance_finder\n",
    "from problem_solver import problem_solver"
   ]
  },
  {
   "cell_type": "code",
   "execution_count": 11,
   "metadata": {},
   "outputs": [],
   "source": [
    "engineers = 2\n",
    "jobs = 10\n",
    "time_limit = 10"
   ]
  },
  {
   "cell_type": "code",
   "execution_count": 12,
   "metadata": {},
   "outputs": [],
   "source": [
    "call_locations = data_generator(10,10,10)\n",
    "distance_matrix = distance_finder(call_locations)"
   ]
  },
  {
   "cell_type": "code",
   "execution_count": 13,
   "metadata": {},
   "outputs": [
    {
     "data": {
      "text/html": [
       "<div>\n",
       "<style scoped>\n",
       "    .dataframe tbody tr th:only-of-type {\n",
       "        vertical-align: middle;\n",
       "    }\n",
       "\n",
       "    .dataframe tbody tr th {\n",
       "        vertical-align: top;\n",
       "    }\n",
       "\n",
       "    .dataframe thead th {\n",
       "        text-align: right;\n",
       "    }\n",
       "</style>\n",
       "<table border=\"1\" class=\"dataframe\">\n",
       "  <thead>\n",
       "    <tr style=\"text-align: right;\">\n",
       "      <th></th>\n",
       "      <th>index</th>\n",
       "      <th>x</th>\n",
       "      <th>y</th>\n",
       "    </tr>\n",
       "  </thead>\n",
       "  <tbody>\n",
       "    <tr>\n",
       "      <th>0</th>\n",
       "      <td>0</td>\n",
       "      <td>0</td>\n",
       "      <td>6</td>\n",
       "    </tr>\n",
       "    <tr>\n",
       "      <th>1</th>\n",
       "      <td>1</td>\n",
       "      <td>5</td>\n",
       "      <td>9</td>\n",
       "    </tr>\n",
       "    <tr>\n",
       "      <th>2</th>\n",
       "      <td>2</td>\n",
       "      <td>5</td>\n",
       "      <td>7</td>\n",
       "    </tr>\n",
       "    <tr>\n",
       "      <th>3</th>\n",
       "      <td>3</td>\n",
       "      <td>2</td>\n",
       "      <td>4</td>\n",
       "    </tr>\n",
       "    <tr>\n",
       "      <th>4</th>\n",
       "      <td>4</td>\n",
       "      <td>5</td>\n",
       "      <td>4</td>\n",
       "    </tr>\n",
       "    <tr>\n",
       "      <th>5</th>\n",
       "      <td>5</td>\n",
       "      <td>1</td>\n",
       "      <td>3</td>\n",
       "    </tr>\n",
       "    <tr>\n",
       "      <th>6</th>\n",
       "      <td>6</td>\n",
       "      <td>1</td>\n",
       "      <td>4</td>\n",
       "    </tr>\n",
       "    <tr>\n",
       "      <th>7</th>\n",
       "      <td>7</td>\n",
       "      <td>5</td>\n",
       "      <td>7</td>\n",
       "    </tr>\n",
       "    <tr>\n",
       "      <th>8</th>\n",
       "      <td>8</td>\n",
       "      <td>2</td>\n",
       "      <td>7</td>\n",
       "    </tr>\n",
       "    <tr>\n",
       "      <th>9</th>\n",
       "      <td>9</td>\n",
       "      <td>4</td>\n",
       "      <td>5</td>\n",
       "    </tr>\n",
       "  </tbody>\n",
       "</table>\n",
       "</div>"
      ],
      "text/plain": [
       "   index  x  y\n",
       "0      0  0  6\n",
       "1      1  5  9\n",
       "2      2  5  7\n",
       "3      3  2  4\n",
       "4      4  5  4\n",
       "5      5  1  3\n",
       "6      6  1  4\n",
       "7      7  5  7\n",
       "8      8  2  7\n",
       "9      9  4  5"
      ]
     },
     "execution_count": 13,
     "metadata": {},
     "output_type": "execute_result"
    }
   ],
   "source": [
    "call_locations"
   ]
  },
  {
   "cell_type": "code",
   "execution_count": 14,
   "metadata": {},
   "outputs": [
    {
     "data": {
      "text/plain": [
       "[[0.0,\n",
       "  5.830951894845301,\n",
       "  5.0990195135927845,\n",
       "  2.8284271247461903,\n",
       "  5.385164807134504,\n",
       "  3.1622776601683795,\n",
       "  2.23606797749979,\n",
       "  5.0990195135927845,\n",
       "  2.23606797749979,\n",
       "  4.123105625617661],\n",
       " [5.830951894845301,\n",
       "  0.0,\n",
       "  2.0,\n",
       "  5.830951894845301,\n",
       "  5.0,\n",
       "  7.211102550927978,\n",
       "  6.4031242374328485,\n",
       "  2.0,\n",
       "  3.605551275463989,\n",
       "  4.123105625617661],\n",
       " [5.0990195135927845,\n",
       "  2.0,\n",
       "  0.0,\n",
       "  4.242640687119285,\n",
       "  3.0,\n",
       "  5.656854249492381,\n",
       "  5.0,\n",
       "  0.0,\n",
       "  3.0,\n",
       "  2.23606797749979],\n",
       " [2.8284271247461903,\n",
       "  5.830951894845301,\n",
       "  4.242640687119285,\n",
       "  0.0,\n",
       "  3.0,\n",
       "  1.4142135623730951,\n",
       "  1.0,\n",
       "  4.242640687119285,\n",
       "  3.0,\n",
       "  2.23606797749979],\n",
       " [5.385164807134504,\n",
       "  5.0,\n",
       "  3.0,\n",
       "  3.0,\n",
       "  0.0,\n",
       "  4.123105625617661,\n",
       "  4.0,\n",
       "  3.0,\n",
       "  4.242640687119285,\n",
       "  1.4142135623730951],\n",
       " [3.1622776601683795,\n",
       "  7.211102550927978,\n",
       "  5.656854249492381,\n",
       "  1.4142135623730951,\n",
       "  4.123105625617661,\n",
       "  0.0,\n",
       "  1.0,\n",
       "  5.656854249492381,\n",
       "  4.123105625617661,\n",
       "  3.605551275463989],\n",
       " [2.23606797749979,\n",
       "  6.4031242374328485,\n",
       "  5.0,\n",
       "  1.0,\n",
       "  4.0,\n",
       "  1.0,\n",
       "  0.0,\n",
       "  5.0,\n",
       "  3.1622776601683795,\n",
       "  3.1622776601683795],\n",
       " [5.0990195135927845,\n",
       "  2.0,\n",
       "  0.0,\n",
       "  4.242640687119285,\n",
       "  3.0,\n",
       "  5.656854249492381,\n",
       "  5.0,\n",
       "  0.0,\n",
       "  3.0,\n",
       "  2.23606797749979],\n",
       " [2.23606797749979,\n",
       "  3.605551275463989,\n",
       "  3.0,\n",
       "  3.0,\n",
       "  4.242640687119285,\n",
       "  4.123105625617661,\n",
       "  3.1622776601683795,\n",
       "  3.0,\n",
       "  0.0,\n",
       "  2.8284271247461903],\n",
       " [4.123105625617661,\n",
       "  4.123105625617661,\n",
       "  2.23606797749979,\n",
       "  2.23606797749979,\n",
       "  1.4142135623730951,\n",
       "  3.605551275463989,\n",
       "  3.1622776601683795,\n",
       "  2.23606797749979,\n",
       "  2.8284271247461903,\n",
       "  0.0]]"
      ]
     },
     "execution_count": 14,
     "metadata": {},
     "output_type": "execute_result"
    }
   ],
   "source": [
    "distance_matrix"
   ]
  },
  {
   "cell_type": "code",
   "execution_count": 15,
   "metadata": {},
   "outputs": [
    {
     "ename": "TypeError",
     "evalue": "problem_solver() missing 1 required positional argument: 'num_engineers'",
     "output_type": "error",
     "traceback": [
      "\u001b[1;31m---------------------------------------------------------------------------\u001b[0m",
      "\u001b[1;31mTypeError\u001b[0m                                 Traceback (most recent call last)",
      "\u001b[1;32mc:\\Demos\\02. UKPN Revised Demo\\Demo Notebook.ipynb Cell 7\u001b[0m in \u001b[0;36m<cell line: 1>\u001b[1;34m()\u001b[0m\n\u001b[1;32m----> <a href='vscode-notebook-cell:/c%3A/Demos/02.%20UKPN%20Revised%20Demo/Demo%20Notebook.ipynb#W6sZmlsZQ%3D%3D?line=0'>1</a>\u001b[0m problem_solver(distance_matrix)\n",
      "\u001b[1;31mTypeError\u001b[0m: problem_solver() missing 1 required positional argument: 'num_engineers'"
     ]
    }
   ],
   "source": [
    "problem_solver(distance_matrix)"
   ]
  },
  {
   "cell_type": "code",
   "execution_count": null,
   "metadata": {},
   "outputs": [],
   "source": []
  }
 ],
 "metadata": {
  "kernelspec": {
   "display_name": "Python 3.10.6 64-bit",
   "language": "python",
   "name": "python3"
  },
  "language_info": {
   "codemirror_mode": {
    "name": "ipython",
    "version": 3
   },
   "file_extension": ".py",
   "mimetype": "text/x-python",
   "name": "python",
   "nbconvert_exporter": "python",
   "pygments_lexer": "ipython3",
   "version": "3.10.6"
  },
  "orig_nbformat": 4,
  "vscode": {
   "interpreter": {
    "hash": "2465e89a81e6bc332a698807e1004ac60c4bb0baa4a70ecaad27dc444f0fdd9e"
   }
  }
 },
 "nbformat": 4,
 "nbformat_minor": 2
}
